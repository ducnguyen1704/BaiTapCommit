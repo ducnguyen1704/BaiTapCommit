{
 "cells": [
  {
   "cell_type": "code",
   "execution_count": null,
   "source": [
    "# Danh sách 10 bài hát yêu thích\r\n",
    "1. Cô đơn dành cho ai\r\n",
    "2. Hạ Còn vương nắng\r\n",
    "3. Sóng gió\r\n",
    "4. Hồng Nhan\r\n",
    "5. Bạc Phận\r\n",
    "6. Em gì ơi\r\n",
    "7. Thê lương\r\n",
    "8. Rồi tới luôn\r\n",
    "9. Mưa của ngày xưa\r\n",
    "10. Cô độc vương"
   ],
   "outputs": [],
   "metadata": {}
  }
 ],
 "metadata": {
  "orig_nbformat": 4,
  "language_info": {
   "name": "python"
  }
 },
 "nbformat": 4,
 "nbformat_minor": 2
}