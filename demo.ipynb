{
 "cells": [
  {
   "cell_type": "code",
   "execution_count": null,
   "source": [
    "# Danh sách 10 bài hát yêu thích\r\n",
    "1. Cô đơn dành cho ai\r\n",
    "2. Hạ Còn vương nắng\r\n",
    "3. Sóng gió\r\n",
    "4. Hồng Nhan\r\n",
    "5. Bạc Phận\r\n",
    "6. Em gì ơi\r\n",
    "7. Thê lương\r\n",
    "8. Rồi tới luôn\r\n",
    "9. Mưa của ngày xưa\r\n",
    "10. Cô độc vương\r\n",
    "# Danh sách 10 quyển sách yêu thích\r\n",
    "1.Tôi tài giỏi, bạn cũng thế – Adam Khoo.\r\n",
    "2.Đắc nhân tâm – Dale Carnegie.\r\n",
    "3.Tội ác và trừng phạt – Dostoevsky.\r\n",
    "4.Nhà giả kim – Paulo Coelho.\r\n",
    "5.Bắt trẻ đồng xanh – J.D. Salinger.\r\n",
    "6.Xách ba lô lên và đi.\r\n",
    "7.Cứ đi rồi sẽ đến – Minh DeltaViet.\r\n",
    "8.7 thói quen để thành đạt – Stephen R. Covey.\r\n",
    "9. Thép đã tôi thế đấy\r\n",
    "10. Cuộc đời của Pi\r\n",
    "# 10 bộ phim hay nhất\r\n",
    "1. Dưới Ánh Mặt Trời/Vật trong tay - The Controllers 2021\r\n",
    "2. Thế Giới Này Không Dựa Vào Sắc Đẹp - Beauty From Heart 2021\r\n",
    "3. Thầm Yêu Quất Sinh Hoài Nam - Unrequited Love 2021\r\n",
    "4. Cửu Châu Hộc Châu Phu Nhân - Novoland: Pearl Eclipse 2021\r\n",
    "5. Hạo Y Hành - Immortality 2021\r\n",
    "6. Đấu La Đại Lục - Douluo Continent 2021\r\n",
    "7. Trường Ca Hành - The Long Ballad 2021\r\n",
    "8. Cẩm Tâm Tựa Ngọc - Brocade Heart Like Jade 2021\r\n",
    "9. Thiên Cổ Quyết Trần - Ancient Love Poetry 2021\r\n",
    "10. Hạnh Phúc Đến Vạn Gia - The Story of Xing Fu 2021"
   ],
   "outputs": [],
   "metadata": {}
  }
 ],
 "metadata": {
  "orig_nbformat": 4,
  "language_info": {
   "name": "python"
  }
 },
 "nbformat": 4,
 "nbformat_minor": 2
}